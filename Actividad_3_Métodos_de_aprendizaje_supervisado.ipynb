{
  "nbformat": 4,
  "nbformat_minor": 0,
  "metadata": {
    "colab": {
      "provenance": [],
      "authorship_tag": "ABX9TyPPQ7/+sbdL0r+SyfXLTgCB",
      "include_colab_link": true
    },
    "kernelspec": {
      "name": "python3",
      "display_name": "Python 3"
    },
    "language_info": {
      "name": "python"
    }
  },
  "cells": [
    {
      "cell_type": "markdown",
      "metadata": {
        "id": "view-in-github",
        "colab_type": "text"
      },
      "source": [
        "<a href=\"https://colab.research.google.com/github/Jumaesca/Cliente-Servidor/blob/main/Actividad_3_M%C3%A9todos_de_aprendizaje_supervisado.ipynb\" target=\"_parent\"><img src=\"https://colab.research.google.com/assets/colab-badge.svg\" alt=\"Open In Colab\"/></a>"
      ]
    },
    {
      "cell_type": "code",
      "execution_count": 2,
      "metadata": {
        "colab": {
          "base_uri": "https://localhost:8080/"
        },
        "id": "wfENxzHaLzXw",
        "outputId": "e344f1d1-4d85-413d-98ba-fc4e8dac0d96"
      },
      "outputs": [
        {
          "output_type": "stream",
          "name": "stdout",
          "text": [
            "                               Estacion  Hora Pico AM (Entrada)  \\\n",
            "0  Paso del Comercio - Flora Industrial                   35555   \n",
            "1                  Estadio - Tequendama                   35555   \n",
            "2                 Universidades - Pance                   35555   \n",
            "3                        Calima - Acopi                   35555   \n",
            "4                 Cien Palos - Buitreta                   35555   \n",
            "\n",
            "   Hora Pico AM (Salida)  Hora Pico PM (Entrada)  Hora Pico PM (Salida)  \\\n",
            "0                  17000                   25000                  40376   \n",
            "1                  17000                   25000                  40376   \n",
            "2                  17000                   25000                  40376   \n",
            "3                  17000                   25000                  40376   \n",
            "4                  17000                   25000                  40376   \n",
            "\n",
            "   Número de Pasajeros Diario  Tarifa Promedio (pesos)  \n",
            "0                       65376                     3200  \n",
            "1                       65376                     3200  \n",
            "2                       65376                     3200  \n",
            "3                       65376                     3200  \n",
            "4                       65376                     3200  \n",
            "LinearRegression()\n",
            "Precisión del modelo: nan\n"
          ]
        },
        {
          "output_type": "stream",
          "name": "stderr",
          "text": [
            "/usr/local/lib/python3.10/dist-packages/sklearn/metrics/_regression.py:918: UndefinedMetricWarning: R^2 score is not well-defined with less than two samples.\n",
            "  warnings.warn(msg, UndefinedMetricWarning)\n"
          ]
        }
      ],
      "source": [
        "import pandas as pd\n",
        "from sklearn.model_selection import train_test_split\n",
        "from sklearn.linear_model import LinearRegression\n",
        "from sklearn.preprocessing import OneHotEncoder\n",
        "from sklearn.compose import ColumnTransformer\n",
        "\n",
        "\n",
        "# Crear un DataFrame con los datos del Mio de Cali\n",
        "data = {\n",
        "    \"Estacion\": [\"Paso del Comercio - Flora Industrial\", \"Estadio - Tequendama\", \"Universidades - Pance\", \"Calima - Acopi\", \"Cien Palos - Buitreta\"],\n",
        "    \"Hora Pico AM (Entrada)\": [35555, 35555, 35555, 35555, 35555],\n",
        "    \"Hora Pico AM (Salida)\": [17000, 17000, 17000, 17000, 17000],\n",
        "    \"Hora Pico PM (Entrada)\": [25000, 25000, 25000, 25000, 25000],\n",
        "    \"Hora Pico PM (Salida)\": [40376, 40376, 40376, 40376, 40376],\n",
        "    \"Número de Pasajeros Diario\": [65376, 65376, 65376, 65376, 65376],\n",
        "    \"Tarifa Promedio (pesos)\": [3200, 3200, 3200, 3200, 3200]\n",
        "}\n",
        "\n",
        "df = pd.DataFrame(data)\n",
        "print (df)\n",
        "\n",
        "\n",
        "# Definir las columnas categóricas y numéricas\n",
        "categorical_columns = ['Estacion']\n",
        "numerical_columns = [col for col in df.columns if col not in categorical_columns + ['Tarifa Promedio (pesos)']]\n",
        "\n",
        "\n",
        "# Crear el transformador de columnas con OneHotEncoder para las categóricas\n",
        "column_transformer = ColumnTransformer(\n",
        "    transformers=[\n",
        "        ('categorical', OneHotEncoder(), categorical_columns),\n",
        "        ('numerical', 'passthrough', numerical_columns)\n",
        "    ]\n",
        ")\n",
        "\n",
        "\n",
        "# Aplicar la transformación y dividir los datos\n",
        "X = column_transformer.fit_transform(df.drop('Tarifa Promedio (pesos)', axis=1))\n",
        "y = df['Tarifa Promedio (pesos)'].values\n",
        "\n",
        "\n",
        "# Dividir los datos en conjuntos de entrenamiento y prueba\n",
        "X_train, X_test, y_train, y_test = train_test_split(X, y, test_size=0.2, random_state=42)\n",
        "\n",
        "\n",
        "# Crear y entrenar el modelo\n",
        "modelo = LinearRegression()\n",
        "modelo.fit(X_train, y_train)\n",
        "print (modelo)\n",
        "\n",
        "# Evaluar el modelo\n",
        "score = modelo.score(X_test, y_test)\n",
        "print(f'Precisión del modelo: {score:.2f}')"
      ]
    }
  ]
}